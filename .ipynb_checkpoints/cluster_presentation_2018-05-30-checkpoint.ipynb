{
 "cells": [
  {
   "cell_type": "markdown",
   "metadata": {},
   "source": [
    "## Slurm commands\n",
    "\n",
    "Interactive: \n",
    "\n",
    "  - salloc : allocate resources  e.g. \n",
    "  \n",
    "  ```salloc -p main -t 10:00 --mem=20M -N 1 -n 1 -c 1```\n",
    "  \n",
    "  - srun :   run a job  e.g.  `srun --pty bash -i`\n",
    "  \n",
    "  - both at the same time: \n",
    "  \n",
    "  ```srun -p main -t 10:00 --mem=20M -N 1 -n 1 -c 1 --pty bash -i```\n",
    "  \n",
    "Batch:  `sbatch my_slurm_batch_script.sh`\n",
    "  \n",
    "Checking jour job status: `squeue -u kp807`"
   ]
  },
  {
   "cell_type": "markdown",
   "metadata": {},
   "source": [
    "## Slurm batch script example\n",
    "```\n",
    "#!/bin/bash\n",
    "\n",
    "##### DO NOT SET ANY VARIBLES DECLARATION BEFORE SBATCH INSTRUCTION !!!!! ######\n",
    "### Modified by Vlad Kholodovych 01/24/2017 ###\n",
    "\n",
    "#SBATCH --job-name=kris_hello ## Replace with your jobname \n",
    "#SBATCH --partition=main # Partition (job queue) \n",
    "#SBATCH -N 1 # Number of nodes \n",
    "#SBATCH -n 1 # Number of tasks - if not MPI make it 1\n",
    "#SBATCH -c 2 # Number of cores per task\n",
    "#SBATCH --mem=100 # Real memory per node required (MB) \n",
    "#SBATCH --time=00:10:00 # Total run time limit (HH:MM:SS) \n",
    "#SBATCH --output=slurm.%j.%N.out # STDOUT output file \n",
    "#SBATCH --error=slurm.%j.%N.err # STDERR error file \n",
    "\n",
    "### Declare job non-rerunable\n",
    "#SBATCH --no-requeue\n",
    "\n",
    "module use /projects/community/modulefiles/\n",
    "module load bowtie/1.2.2-gc563\n",
    "\n",
    "bowtie --help    #this is not parallel execution! no srun!\n",
    "# alternatively: \n",
    "# srun bowtie --help        # slurm will put it in database if srun used\n",
    "# time srun bowtie --help   # time your execution\n",
    "```\n"
   ]
  },
  {
   "cell_type": "markdown",
   "metadata": {},
   "source": [
    "\n",
    "## Right-sizing your jobs\n",
    "\n",
    "  - they may run sooner if they are small\n",
    "     + think of the job scheduler as trying to fit cubes of different sizes - if a hole opens up, a smaller cube might fit in\n",
    "  - you are using your fair share needlessly if you ask for too much\n",
    "     + the priority for you is pushed down if you have asked for (even if not used) a lot of resources lately\n",
    "  - time a portion of the job so that you can estimate the completion time"
   ]
  },
  {
   "cell_type": "markdown",
   "metadata": {},
   "source": [
    "## Using N, n, and c options in slurm\n",
    "  - if in doubt, use -N 1 -n 1  (N=nodes, n=ntasks)\n",
    "  - 'N'>1 and 'n'>1 option can be used only with MPI-enabled software or such. Not a lot of software falls into that category!\n",
    "    + software that does: \n",
    "       * MPI, \n",
    "       * ipython parallel (uses mpi4py), \n",
    "       * GATK 4 (uses Spark as parallelizing engine)\n",
    "  - a lot of software can parallelize across the cores on a single machine so feel free to use '-c' > 1\n"
   ]
  },
  {
   "cell_type": "markdown",
   "metadata": {},
   "source": [
    "## Debugging your jobs\n",
    "  - include -e (error file) and -o (output file) = name it something that you will recognize\n",
    "  - scontrol show job 123456 -dd  and what it tells you\n",
    "    + command, batch, workdir\n",
    "    + resources used (or asked???)\n",
    "    + only available for a short time after job ends\n",
    "  - interactive development i.e. run bash on a compute node:\n",
    "    + IMPORTANT: use only one core at a time; and `scancel 12345` cancel your job or logout to make sure you have relinquished slurm allocation\n",
    "    + IMPORTANT: without srun, the help team cannot debug properly!\n"
   ]
  },
  {
   "cell_type": "markdown",
   "metadata": {},
   "source": [
    "## Useful slurm commands\n",
    "\n",
    "```\n",
    "scontrol show job 1234556 -dd      # shows detailed view of the options submitted to the job 1234556\n",
    "srun -p main -t 10:00 --mem=20M -N 1 -n 1 -c 1 --pty bash -i #interactive session - remember to log out when done\n",
    "squeue  -u kp807                   # show jobs for netid kp807 (replace with your own)\n",
    "sacct -o Elapsed,Start,End,job,jobName #show job statistics for past jobs\n",
    "sacct -o MaxRSS,job,jobName,state      #another set of job statistics\n",
    "```"
   ]
  },
  {
   "cell_type": "markdown",
   "metadata": {},
   "source": [
    "## Slurm good practice\n",
    "  - number of jobs not more than 5,000 at a time - queue is 10,000 \n",
    "  - keep track of how much memory you are using \n",
    "      \n",
    "      `sacct -o MaxRSS,job,jobName,state`\n",
    "  - estimate the wall time \n",
    "  \n",
    "      `sacct -o Elapsed,Start,End,job,jobName`\n",
    "  - be aware of resources needed for GPUs - cuda machines need to keep a few CPUs free to use GPUs - leave at least 2 cores per GPU\n"
   ]
  },
  {
   "cell_type": "markdown",
   "metadata": {},
   "source": [
    "## Bash commands\n",
    "  - manipulating strings: `basename` and `namedir`; `cut -d '_' -f2 `\n",
    "  - gotchas like `$file_i`  vs `${file}_i` ; don't leave spaces\n",
    "  - list comprehensions `echo file{1..10}`\n",
    "  - Bash command substitution using backticks \\`pwd\\`"
   ]
  },
  {
   "cell_type": "markdown",
   "metadata": {},
   "source": [
    "Try some of these commands on the command line and see what it does: \n",
    "\n",
    "```\n",
    "dirname /home/kp807/projects/cluster_reports/cluster.csv       # everything but the last part\n",
    "basename /home/kp807/projects/cluster_reports/cluster.csv      # last part of path\n",
    "CURRENT_DIR=`pwd` ; echo $CURRENT_DIR                          # backtick for execution of bash command\n",
    "echo 'projects_cluster_file.csv' | cut -d '_' -f1              # split name to retain a part of file\n",
    "echo $((1 + 2))                                                # double parenthesis for arithmetic expressions\n",
    "echo filename_fly{5..10}.csv                                   # list comprehensions   {start..end}\n",
    "\n",
    "# for-loop: \n",
    "for file in filename_fly{5..10}.csv; do  echo $file ; done     \n",
    "\n",
    "# if-statement - 2 examples\n",
    "if [ 1 -gt 2 ]; then  echo '1 > 2' ; else echo '1<2' ; fi      \n",
    "if [ -d \"newdir\" ]; then  echo 'directory exists' ; else echo 'this directory doesnt exist' ; fi                        \n",
    "#variable assignment\n",
    "a=10; echo $a        #good - no spaces\n",
    "b = 10; echo $b      #bad - spaces around =\n",
    "```"
   ]
  },
  {
   "cell_type": "markdown",
   "metadata": {},
   "source": [
    "### useful commands: \n",
    "\n",
    "|command | description | usage example |\n",
    "|:-----------|:--------|:-------------|\n",
    "|which <command>| see where command is installed | which python|\n",
    "|pwd| which directory I'm in | pwd |\n",
    "|man <command>| manual page for command | man cut|\n",
    "|grep <pattern>| filter for lines which fit pattern | cat myfile &#124; grep GATK |\n",
    "|cut -d<delimiter> -f<number>| split line by delimiter and get field number 3| cat myfile &#124; cut -d'_' -f3 |\n",
    "|sort <file>| sort lines, often used with `uniq` | sort myfile &#124; uniq |\n",
    "|uniq| suppress repeated lines, works only if sorted | see above example |\n",
    "|less | paginated output | less myfile |\n",
    "| >| redirect output (e.g. list files and save filenames in aaa.txt) | ls > aaa.txt |\n",
    "|>>| append output to existing file | echo \"blah\" >> aaa.txt |\n",
    "| find| find files with some properties e.g. display all files recursively from current directory| `find .`|\n",
    "| chmod| change permissions on a file or directory |chmod u+x myscript.sh|\n",
    "|top| display most intensive processes | `top`|\n",
    "|ps auxw| list processes | `ps auxw` |\n"
   ]
  },
  {
   "cell_type": "markdown",
   "metadata": {},
   "source": [
    "## Data parallelism\n",
    "\n",
    "This is if your job is \"embarassingly\" parallel\n",
    "\n",
    "  - for loops and creating/submitting lots of jobs at once\n",
    "  - job arrays  - see example at [this github repo](https://github.com/KristinaPlazonic/slurm_data_parallelization)"
   ]
  },
  {
   "cell_type": "markdown",
   "metadata": {},
   "source": [
    "## Disk utilization\n",
    "\n",
    "How to see who used how much space \n",
    "  \n",
    "- Will show file usage on /scratch/netid\n",
    "\n",
    "``` mmlsquota scratch --block-size=auto   ```\n",
    "\n",
    "- Will show usage in /home/netid\n",
    "\n",
    "```mmlsquota home --block-size=auto     ```\n",
    "\n",
    "- Will show individual usage in the shared folder foran (/projects/foran)\n",
    "\n",
    "```mmlsquota home:foran --block-size=auto ```\n",
    "\n",
    "- Will show quota and usage of the whole fileset foran.\n",
    "\n",
    "```mmlsquota -j foran home  --block-size=auto ```\n",
    "\n",
    "- Will show human-readable sizes of all 1st-level subdirectories of `/directory/to/query/`\n",
    "   + `du -hs /directory/to/query/*` \n",
    "     "
   ]
  },
  {
   "cell_type": "markdown",
   "metadata": {},
   "source": [
    "## Resources\n",
    "\n",
    "- [linux tutorial by Galen](http://www.rci.rutgers.edu/~gc563/linux/index.html)\n",
    "- [OARC cluster user guide Amarel/Perceval](https://rutgers-oarc.github.io/amarel/)\n",
    "- [web-based access to the cluster (still testing) - only from campus or VPN](https://ondemand.hpc.rutgers.edu/)\n",
    "- [intro videos by Kristina](https://github.com/KristinaPlazonic/videos)"
   ]
  }
 ],
 "metadata": {
  "kernelspec": {
   "display_name": "Bash",
   "language": "bash",
   "name": "bash"
  },
  "language_info": {
   "codemirror_mode": "shell",
   "file_extension": ".sh",
   "mimetype": "text/x-sh",
   "name": "bash"
  },
  "toc": {
   "base_numbering": 1,
   "nav_menu": {},
   "number_sections": true,
   "sideBar": true,
   "skip_h1_title": false,
   "title_cell": "Table of Contents",
   "title_sidebar": "Contents",
   "toc_cell": false,
   "toc_position": {},
   "toc_section_display": true,
   "toc_window_display": true
  }
 },
 "nbformat": 4,
 "nbformat_minor": 2
}
