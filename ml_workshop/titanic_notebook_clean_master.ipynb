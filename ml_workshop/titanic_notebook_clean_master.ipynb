{
  "nbformat": 4,
  "nbformat_minor": 0,
  "metadata": {
    "colab": {
      "name": "titanic_notebook_clean_master",
      "version": "0.3.2",
      "provenance": [],
      "collapsed_sections": [
        "JQ8RjmgFEuOS",
        "ZgM81bw5Ewim",
        "iGNfJ9dJH83z",
        "i9RIRtpGIB3R",
        "qA-Y-_7gIM17",
        "jVWTcNiPLs5X",
        "51mk_p8xRWMc"
      ],
      "toc_visible": true
    },
    "kernelspec": {
      "display_name": "Python 3",
      "name": "python3"
    }
  },
  "cells": [
    {
      "cell_type": "markdown",
      "metadata": {
        "colab_type": "text",
        "id": "lSrWNr3MuFUS"
      },
      "source": [
        "For more information about working with Colaboratory notebooks, see [Overview of Colaboratory](/notebooks/basic_features_overview.ipynb).\n"
      ]
    },
    {
      "cell_type": "markdown",
      "metadata": {
        "id": "JQ8RjmgFEuOS",
        "colab_type": "text"
      },
      "source": [
        "# package imports"
      ]
    },
    {
      "cell_type": "code",
      "metadata": {
        "id": "y8e5YFMo3_UC",
        "colab_type": "code",
        "colab": {}
      },
      "source": [
        "import sklearn\n",
        "import pandas as pd\n",
        "import numpy as np\n",
        "\n",
        "# visualization\n",
        "import seaborn as sns\n",
        "import matplotlib.pyplot as plt\n",
        "%matplotlib inline\n",
        "\n",
        "# machine learning imports\n",
        "\n",
        "from sklearn import ensemble\n",
        "from sklearn import gaussian_process\n",
        "from sklearn import linear_model\n",
        "from sklearn import tree\n",
        "from sklearn import naive_bayes\n",
        "from sklearn import svm\n",
        "from sklearn import discriminant_analysis\n",
        "from sklearn import neighbors\n",
        "from sklearn import model_selection\n",
        "from sklearn import metrics"
      ],
      "execution_count": 0,
      "outputs": []
    },
    {
      "cell_type": "code",
      "metadata": {
        "id": "BPDYYsdq7mgZ",
        "colab_type": "code",
        "colab": {}
      },
      "source": [
        "from google.colab import drive\n",
        "drive.mount('/content/drive', force_remount=True)"
      ],
      "execution_count": 0,
      "outputs": []
    },
    {
      "cell_type": "markdown",
      "metadata": {
        "id": "ZgM81bw5Ewim",
        "colab_type": "text"
      },
      "source": [
        "# Raw data imports"
      ]
    },
    {
      "cell_type": "code",
      "metadata": {
        "id": "pdrUTH5t6LGW",
        "colab_type": "code",
        "colab": {}
      },
      "source": [
        "DIR = \"/content/drive/My Drive/Colab Notebooks/titanic/\"\n",
        "train_df = pd.read_csv(DIR + \"train.csv\")\n",
        "test_df = pd.read_csv(DIR + \"test.csv\")"
      ],
      "execution_count": 0,
      "outputs": []
    },
    {
      "cell_type": "code",
      "metadata": {
        "id": "hKoW1KbcN2ed",
        "colab_type": "code",
        "colab": {}
      },
      "source": [
        "! ls drive/'My Drive'/'Colab Notebooks'/"
      ],
      "execution_count": 0,
      "outputs": []
    },
    {
      "cell_type": "markdown",
      "metadata": {
        "id": "iGNfJ9dJH83z",
        "colab_type": "text"
      },
      "source": [
        "# explore data"
      ]
    },
    {
      "cell_type": "code",
      "metadata": {
        "id": "fcadZ5al0eFa",
        "colab_type": "code",
        "colab": {}
      },
      "source": [
        "cols = ['Pclass', 'Sex', 'Age', 'SibSp', 'Parch', 'Fare',  'Embarked']"
      ],
      "execution_count": 0,
      "outputs": []
    },
    {
      "cell_type": "markdown",
      "metadata": {
        "id": "u81TEikYI2RO",
        "colab_type": "text"
      },
      "source": [
        "## explore - all in one"
      ]
    },
    {
      "cell_type": "code",
      "metadata": {
        "id": "Tw0zS0GYI44d",
        "colab_type": "code",
        "colab": {}
      },
      "source": [
        "train_df.info()\n",
        "train_df.head()\n",
        "train_df.describe()\n",
        "train_df.describe(include=['O'])\n",
        "train_df[['Pclass', 'Survived']].groupby(['Pclass'], as_index=False).mean().sort_values(by='Survived', ascending=False)\n",
        "pd.crosstab(train_df['Survived'], train_df['Sex'])"
      ],
      "execution_count": 0,
      "outputs": []
    },
    {
      "cell_type": "markdown",
      "metadata": {
        "id": "Et3S1eJGvAy7",
        "colab_type": "text"
      },
      "source": [
        "## Group bys"
      ]
    },
    {
      "cell_type": "code",
      "metadata": {
        "id": "swG0lay3u__s",
        "colab_type": "code",
        "colab": {}
      },
      "source": [
        "cols_show =[\"Pclass\", \"Sex\", \"Fare\", \"Survived\"]\n",
        "train_df[cols_show].groupby(\"Sex\", as_index = False).mean().head()\n"
      ],
      "execution_count": 0,
      "outputs": []
    },
    {
      "cell_type": "markdown",
      "metadata": {
        "id": "i9RIRtpGIB3R",
        "colab_type": "text"
      },
      "source": [
        "# prepare data"
      ]
    },
    {
      "cell_type": "code",
      "metadata": {
        "id": "qVLVtVw8M7nK",
        "colab_type": "code",
        "colab": {}
      },
      "source": [
        "combine = [train_df, test_df]"
      ],
      "execution_count": 0,
      "outputs": []
    },
    {
      "cell_type": "code",
      "metadata": {
        "id": "9JjDAR15JtZ5",
        "colab_type": "code",
        "colab": {}
      },
      "source": [
        "for dataset in combine:\n",
        "  dataset['Sex']      = dataset['Sex']     .map( {'female': 1, 'male': 0} )#.astype(int)\n",
        "  dataset['Embarked'] = dataset['Embarked'].map( {'S': 0, 'C': 1, 'Q': 2} )#.astype(int)\n",
        "  freq_port           = train_df.Embarked.dropna().mode()[0]\n",
        "  dataset['Embarked'] = dataset['Embarked'].fillna(freq_port)\n",
        "  mean_age            = train_df.Age.dropna().mean()\n",
        "  dataset['Age']      = dataset['Age'].fillna(mean_age)\n",
        "  mean_fare           = train_df.Fare.dropna().mean()\n",
        "  dataset['Fare']     = dataset['Fare'].fillna(mean_fare)"
      ],
      "execution_count": 0,
      "outputs": []
    },
    {
      "cell_type": "code",
      "metadata": {
        "id": "qg4z6aeTEsLz",
        "colab_type": "code",
        "colab": {}
      },
      "source": [
        "X_train = train_df[cols]\n",
        "Y_train = train_df[\"Survived\"]\n",
        "X_test  = test_df[cols]             # there is no Y_pred\n",
        "# print(X_train.head())\n",
        "# print(X_test.head())"
      ],
      "execution_count": 0,
      "outputs": []
    },
    {
      "cell_type": "markdown",
      "metadata": {
        "id": "qA-Y-_7gIM17",
        "colab_type": "text"
      },
      "source": [
        "# model fitting and predictions"
      ]
    },
    {
      "cell_type": "code",
      "metadata": {
        "id": "sJHRatTJLGAb",
        "colab_type": "code",
        "colab": {}
      },
      "source": [
        "model = ensemble.RandomForestClassifier()                      # replace with any other \n",
        "model.fit(X_train, Y_train)\n",
        "Y_pred = model.predict(X_test)"
      ],
      "execution_count": 0,
      "outputs": []
    },
    {
      "cell_type": "markdown",
      "metadata": {
        "id": "jVWTcNiPLs5X",
        "colab_type": "text"
      },
      "source": [
        "# model evaluation"
      ]
    },
    {
      "cell_type": "code",
      "metadata": {
        "id": "-sQGIuOmLwj8",
        "colab_type": "code",
        "colab": {}
      },
      "source": [
        "model.score(X_train, Y_train)"
      ],
      "execution_count": 0,
      "outputs": []
    },
    {
      "cell_type": "code",
      "metadata": {
        "id": "eZBIunM-0N-R",
        "colab_type": "code",
        "colab": {}
      },
      "source": [
        "cnf_matrix = metrics.confusion_matrix(Y_train, model.predict(X_train))\n",
        "print(cnf_matrix)\n",
        "print(f\"error from confusion matrix is {(cnf_matrix[0,1]+cnf_matrix[1,0])/cnf_matrix.sum():2.4f}\")"
      ],
      "execution_count": 0,
      "outputs": []
    },
    {
      "cell_type": "code",
      "metadata": {
        "id": "Eey-gCuMRs0o",
        "colab_type": "code",
        "colab": {}
      },
      "source": [
        "scores = model_selection.cross_val_score(model, X_train, Y_train, cv=5)\n",
        "print(scores)"
      ],
      "execution_count": 0,
      "outputs": []
    },
    {
      "cell_type": "markdown",
      "metadata": {
        "id": "51mk_p8xRWMc",
        "colab_type": "text"
      },
      "source": [
        "# Visualization"
      ]
    },
    {
      "cell_type": "markdown",
      "metadata": {
        "id": "4r7wJHjp8nds",
        "colab_type": "text"
      },
      "source": [
        "## Seaborn style"
      ]
    },
    {
      "cell_type": "code",
      "metadata": {
        "id": "lbJ57cMH8t2_",
        "colab_type": "code",
        "colab": {}
      },
      "source": [
        "fig, axis1 = plt.subplots(1,1,figsize=(14,12))\n",
        "sns.barplot(x = 'Sex', y = 'Survived', hue = 'Embarked', data=train_df, ax = axis1)\n",
        "axis1.set_title('Sex vs Embarked Survival Comparison')\n"
      ],
      "execution_count": 0,
      "outputs": []
    },
    {
      "cell_type": "markdown",
      "metadata": {
        "id": "uRnCLJJmRLuE",
        "colab_type": "text"
      },
      "source": [
        "## Matplotlib style"
      ]
    },
    {
      "cell_type": "code",
      "metadata": {
        "id": "aTsZ8g_D_IOm",
        "colab_type": "code",
        "colab": {}
      },
      "source": [
        "plt.figure(figsize=(10, 6) )\n",
        "plt.scatter(x = \"Age\", y = \"Fare\", c = \"Survived\", s=train_df[\"Parch\"]*30, alpha = 0.7,  data = train_df, cmap=plt.cm.Accent)\n",
        "plt.legend()\n",
        "plt.xlabel(\"Age\")\n",
        "plt.ylabel(\"Fare\")\n",
        "plt.title(\"Fare vs Age\")\n",
        "plt.ylim((-10,300))"
      ],
      "execution_count": 0,
      "outputs": []
    },
    {
      "cell_type": "markdown",
      "metadata": {
        "id": "vraBN8khSDFL",
        "colab_type": "text"
      },
      "source": [
        "## pandas style"
      ]
    },
    {
      "cell_type": "code",
      "metadata": {
        "id": "SNE7NIX9NH9b",
        "colab_type": "code",
        "colab": {}
      },
      "source": [
        "ax = train_df.Age.plot(kind='kde')                # example of a probability distribution \n",
        "ax.set_title(\"probability distribution of age\")\n",
        "ax.set_xlabel(\"Age\")"
      ],
      "execution_count": 0,
      "outputs": []
    }
  ]
}